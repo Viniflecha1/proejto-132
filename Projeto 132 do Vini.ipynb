{
  "nbformat": 4,
  "nbformat_minor": 0,
  "metadata": {
    "colab": {
      "name": "PRO-C132-Project-Solution(pt).ipynb",
      "provenance": [],
      "collapsed_sections": []
    },
    "kernelspec": {
      "name": "python3",
      "display_name": "Python 3"
    },
    "language_info": {
      "name": "python"
    }
  },
  "cells": [
    {
      "cell_type": "markdown",
      "source": [
        "## Carregue os Arquivos de Dados CSV"
      ],
      "metadata": {
        "id": "6MwCffyq4U0t"
      }
    },
    {
      "cell_type": "code",
      "source": [
        "!git clone https://github.com/ByjusBrazil/PRO_1-1_C131_PROStarsDatasetCSVs"
      ],
      "metadata": {
        "id": "fehsYMli4Zvl",
        "colab": {
          "base_uri": "https://localhost:8080/"
        },
        "outputId": "34cabb02-9ec2-4639-b9a1-90bda71e1cb7"
      },
      "execution_count": null,
      "outputs": [
        {
          "output_type": "stream",
          "name": "stdout",
          "text": [
            "fatal: destination path 'PRO_1-1_C131_PROStarsDatasetCSVs' already exists and is not an empty directory.\n"
          ]
        }
      ]
    },
    {
      "cell_type": "markdown",
      "source": [
        "## Importe os Módulos Necessários"
      ],
      "metadata": {
        "id": "N-sMQa3D32nx"
      }
    },
    {
      "cell_type": "code",
      "execution_count": null,
      "metadata": {
        "id": "lv1odUTa3E7T"
      },
      "outputs": [],
      "source": [
        "import pandas as pd\n",
        "import matplotlib.pyplot as plt"
      ]
    },
    {
      "cell_type": "markdown",
      "source": [
        "## Leia o arquivo CSV como um dataframe do pandas"
      ],
      "metadata": {
        "id": "5z6MM48t37_Q"
      }
    },
    {
      "cell_type": "code",
      "source": [
        "df = pd.read_csv(\"/content/PRO_1-1_C131_PROStarsDatasetCSVs/star_with_gravity.csv\")\n",
        "df.head()\n",
        "\n",
        "mass = df[\"Mass\"].to_list()\n",
        "radius = df[\"Radius\"].to_list()\n",
        "dist = df[\"Distance\"].to_list()\n",
        "gravity = df[\"Gravity\"].to_list()\n",
        "\n",
        "mass.sort()\n",
        "radius.sort()\n",
        "gravity.sort()\n",
        "plt.plot(radius,mass)"
      ],
      "metadata": {
        "id": "RTZJbf-33RHo",
        "colab": {
          "base_uri": "https://localhost:8080/",
          "height": 283
        },
        "outputId": "a1a4737f-027c-479b-8459-a62b1fbbb4a6"
      },
      "execution_count": null,
      "outputs": [
        {
          "output_type": "execute_result",
          "data": {
            "text/plain": [
              "[<matplotlib.lines.Line2D at 0x7f029c035b90>]"
            ]
          },
          "metadata": {},
          "execution_count": 8
        },
        {
          "output_type": "display_data",
          "data": {
            "text/plain": [
              "<Figure size 432x288 with 1 Axes>"
            ],
            "image/png": "[encoded data removed]"
          },
          "metadata": {
            "needs_background": "light"
          }
        }
      ]
    },
    {
      "cell_type": "markdown",
      "source": [
        "## Plote o Raio e a Massa da Estrela"
      ],
      "metadata": {
        "id": "S4LQPDJb4Cq7"
      }
    },
    {
      "cell_type": "code",
      "source": [
        "plt.title(\"Raio e Massa da Estrela\")\n",
        "plt.xlabel(\"Raio\")\n",
        "plt.ylabel(\"Massa\")\n",
        "plt.show()\n",
        "plt.plot(mass,gravity)"
      ],
      "metadata": {
        "id": "SixZcWMb3Sq9",
        "colab": {
          "base_uri": "https://localhost:8080/",
          "height": 560
        },
        "outputId": "b1f1634f-8a80-48e6-8530-856d27ce842d"
      },
      "execution_count": null,
      "outputs": [
        {
          "output_type": "display_data",
          "data": {
            "text/plain": [
              "<Figure size 432x288 with 1 Axes>"
            ],
            "image/png": "[encoded data removed]"
          },
          "metadata": {
            "needs_background": "light"
          }
        },
        {
          "output_type": "execute_result",
          "data": {
            "text/plain": [
              "[<matplotlib.lines.Line2D at 0x7f029bf7ca10>]"
            ]
          },
          "metadata": {},
          "execution_count": 9
        },
        {
          "output_type": "display_data",
          "data": {
            "text/plain": [
              "<Figure size 432x288 with 1 Axes>"
            ],
            "image/png": "[encoded data removed]"
          },
          "metadata": {
            "needs_background": "light"
          }
        }
      ]
    },
    {
      "cell_type": "markdown",
      "source": [
        "## Plote Massa X Gravidade"
      ],
      "metadata": {
        "id": "ixwLjN9R4HXK"
      }
    },
    {
      "cell_type": "code",
      "source": [
        "plt.title(\"Massa X Gravidade\")\n",
        "plt.xlabel(\"Massa\")\n",
        "plt.ylabel(\"Gravidade\")\n",
        "plt.show()"
      ],
      "metadata": {
        "id": "vzlSHfeJ3Z8t",
        "colab": {
          "base_uri": "https://localhost:8080/",
          "height": 295
        },
        "outputId": "83e46e9b-3c22-417f-b434-3d8236c8a44b"
      },
      "execution_count": null,
      "outputs": [
        {
          "output_type": "display_data",
          "data": {
            "text/plain": [
              "<Figure size 432x288 with 1 Axes>"
            ],
            "image/png": "[encoded data removed]"
          },
          "metadata": {
            "needs_background": "light"
          }
        }
      ]
    },
    {
      "cell_type": "markdown",
      "source": [
        "## Gráfico de Dispersão de Raio e Massa"
      ],
      "metadata": {
        "id": "4UK9kQnY4L6M"
      }
    },
    {
      "cell_type": "code",
      "source": [
        "plt.scatter(radius,mass)\n",
        "plt.xlabel(\"Raio\")\n",
        "plt.ylabel(\"Massa\")\n",
        "plt.show()"
      ],
      "metadata": {
        "id": "JTjBYDJB3bbl",
        "colab": {
          "base_uri": "https://localhost:8080/",
          "height": 280
        },
        "outputId": "58b4ea9e-9122-4002-e9e8-1206097d8b74"
      },
      "execution_count": null,
      "outputs": [
        {
          "output_type": "display_data",
          "data": {
            "text/plain": [
              "<Figure size 432x288 with 1 Axes>"
            ],
            "image/png": "[encoded data removed]"
          },
          "metadata": {
            "needs_background": "light"
          }
        }
      ]
    }
  ]
}